{
 "cells": [
  {
   "cell_type": "markdown",
   "metadata": {},
   "source": [
    "# Running FEAST with romscom\n",
    "\n",
    "This script runs a 1-year simulation of the FEAST model.  Note that this uses the 10-layer H16 version of Bering10K+BEST_NPZ. "
   ]
  },
  {
   "cell_type": "markdown",
   "metadata": {},
   "source": [
    "## Environment setup"
   ]
  },
  {
   "cell_type": "code",
   "execution_count": 1,
   "metadata": {},
   "outputs": [],
   "source": [
    "import os\n",
    "import sys\n",
    "import subprocess\n",
    "from datetime import datetime, timedelta\n",
    "import romscom.romscom as rc\n",
    "import romscom.rcutils as rcu\n",
    "from romsascii import feastutilities as fst\n",
    "\n",
    "dryrun = True\n",
    "dryrunnco = True\n",
    "moxlocal = False"
   ]
  },
  {
   "cell_type": "markdown",
   "metadata": {},
   "source": [
    "## Baseline parameters\n",
    "\n",
    "The baseline input parameters are held in a series of YAML files.  These can be considered the starting point for our ROMS application.  From here, we can make adjustments that are simulation-specific.  We start by reading these values into dictionaries."
   ]
  },
  {
   "cell_type": "code",
   "execution_count": 2,
   "metadata": {},
   "outputs": [],
   "source": [
    "ocean = rc.readparamfile(\"ocean_bering10k_old.yaml\", tconvert=True)\n",
    "spos  = rc.readparamfile(\"bering_bestnpzH16_spos.yaml\")\n",
    "npz   = rc.readparamfile(\"bestnpzH16_bpar.yaml\")\n",
    "ipar  = rc.readparamfile(\"ice_budgell.yaml\")\n",
    "feast = rc.readparamfile(\"feast_bpar.yaml\")"
   ]
  },
  {
   "cell_type": "markdown",
   "metadata": {},
   "source": [
    "## Some pre-simulation setup\n",
    "\n",
    "Here, we prepare for a simulation.  The target year is set, and the simulation is named using that year.  We set the current folder as our working folder, and add In, Out, and Log folders that will hold our simulation-specific input files, output files, and standard output/error logs, respectively.  Finally, we covert the ice and station data read in in the previous step from the YAML dictionary format to ROMS standard input format files."
   ]
  },
  {
   "cell_type": "code",
   "execution_count": 3,
   "metadata": {},
   "outputs": [],
   "source": [
    "# Simulation year\n",
    "\n",
    "targetyear = 2005\n",
    "\n",
    "# Simulation name\n",
    "\n",
    "simname = f\"feastH16_{targetyear}\"\n",
    "\n",
    "# Location to place In/Out/Log folders\n",
    "\n",
    "simdir = \".\"\n",
    "\n",
    "# Create In/Out/Log folders\n",
    "# folder names are returned to fol dictionary\n",
    "\n",
    "fol = rc.simfolders(simdir, create=True)\n",
    "\n",
    "# The ice and station output will not change throughout the simulation, \n",
    "# so write these to file now, and update the ocean parameters accordingly\n",
    "\n",
    "iparfile = os.path.join(fol['in'], f\"{simname}_ipar.in\")\n",
    "sposfile = os.path.join(fol['in'], f\"{simname}_spos.in\")\n",
    "\n",
    "rc.dict2standardin(ipar, compress=False, file=iparfile)\n",
    "rc.dict2standardin(spos, compress=False, file=sposfile)\n",
    "\n",
    "ocean['SPOSNAM'] = sposfile\n",
    "ocean['IPARNAM'] = iparfile"
   ]
  },
  {
   "cell_type": "markdown",
   "metadata": {},
   "source": [
    "## The spinup\n",
    "\n",
    "A FEAST simulation starts with a spinup period, spanning July 1-Jan 1, where most FEAST dynamics are turned off, and the fish are just programmed to swim to where their prey is.\n",
    "\n",
    "### Build initialization file\n",
    "\n",
    "The initialization file is created by taking a slice of a previously-run BEST_NPZ hindcast and adding the FEAST dye variables to that file."
   ]
  },
  {
   "cell_type": "code",
   "execution_count": 4,
   "metadata": {},
   "outputs": [
    {
     "name": "stdout",
     "output_type": "stream",
     "text": [
      "ncks -O -d ocean_time,0 /Users/kakearney/Documents/Research/Working/mox_bumblereem/bering10k/output/hindcasts/npz_201904_aclim/Out/aclim_44_his_00181.nc ./In/ini_feastH16_2005_spinup.nc\n",
      "ncks -C -A /gscratch/bumblereem/bering10k/input/ini/ini_feast_2005.nc ./In/ini_feastH16_2005_spinup.nc\n"
     ]
    }
   ],
   "source": [
    "# Set the initialization file name\n",
    "\n",
    "ocean['ININAME'] = os.path.join(fol['in'], f\"ini_{simname}_spinup.nc\")\n",
    "ocean['NRREC'] = -1 # run like a restart simulation\n",
    "\n",
    "# Path to 10-layer, H16 hindcast simulation\n",
    "if moxlocal:\n",
    "    moxdir = '/gscratch/bumblereem/' # local to mox\n",
    "else:\n",
    "    moxdir = '/Users/kakearney/Documents/Research/Working/mox_bumblereem/' # remote mount\n",
    "\n",
    "hindcast_folder = os.path.join(moxdir, 'bering10k/output/hindcasts/npz_201904_aclim/Out');\n",
    "\n",
    "# Find the time slice in that simulation closest to July 1 of previous year\n",
    "prevjuly = datetime(targetyear - 1, 7, 1)\n",
    "closest = fst.findclosesttime(hindcast_folder, prevjuly)\n",
    "\n",
    "# Use NCO utilities to slice the nearest time into a new file\n",
    "\n",
    "cmd1 = ['ncks', '-O', '-d', 'ocean_time,{:d}'.format(closest['idx']), \n",
    "           closest['filename'], ocean['ININAME']]\n",
    "if dryrunnco:\n",
    "    print(' '.join(cmd1))\n",
    "else:\n",
    "    subprocess.run(cmd1)\n",
    "\n",
    "# Use NCO utilities to append the fish variables from the correct year to this slice\n",
    "\n",
    "fishfile = f\"/gscratch/bumblereem/bering10k/input/ini/ini_feast_{targetyear}.nc\"\n",
    "cmd2 = ['ncks', '-C', '-A', fishfile, ocean['ININAME']]\n",
    "if dryrunnco:\n",
    "    print(' '.join(cmd2))\n",
    "else:\n",
    "    subprocess.run(cmd2)\n"
   ]
  },
  {
   "cell_type": "markdown",
   "metadata": {},
   "source": [
    "### Set year-specific input files\n",
    "\n",
    "Forcing and boundary files are stored by year, so we need to point to the correct ones (keeping in mind that the spinup will take place in the year prior to our target year)"
   ]
  },
  {
   "cell_type": "code",
   "execution_count": 5,
   "metadata": {},
   "outputs": [],
   "source": [
    "# Set boundary file matching year and number of layers\n",
    "\n",
    "ncinputfolder = os.path.join(moxdir, 'bering10k/input/')\n",
    "\n",
    "ocean['BRYNAME'] = os.path.join(ncinputfolder, \"hindcast_cfs\", f\"{prevjuly.year}\", \n",
    "                                f\"roms-cfs-bry-N{ocean['N']}-{prevjuly.year}.nc\")\n",
    "\n",
    "# Forcing files\n",
    "\n",
    "ocean['FRCNAME'] = [os.path.join(ncinputfolder, 'generic', 'tides_OTBS.nc'), \n",
    "                    os.path.join(ncinputfolder, 'generic', 'sss.clim.nc'),\n",
    "                    os.path.join(ncinputfolder,'hindcast_cfs', f\"{prevjuly.year}\", f\"roms-cfs-atmos-lwrad-{prevjuly.year}.nc\"),\n",
    "                    os.path.join(ncinputfolder,'hindcast_cfs', f\"{prevjuly.year}\", f\"roms-cfs-atmos-Pair-{prevjuly.year}.nc\"),\n",
    "                    os.path.join(ncinputfolder,'hindcast_cfs', f\"{prevjuly.year}\", f\"roms-cfs-atmos-Qair-{prevjuly.year}.nc\"),\n",
    "                    os.path.join(ncinputfolder,'hindcast_cfs', f\"{prevjuly.year}\", f\"roms-cfs-atmos-rain-{prevjuly.year}.nc\"),\n",
    "                    os.path.join(ncinputfolder,'hindcast_cfs', f\"{prevjuly.year}\", f\"roms-cfs-atmos-swrad-{prevjuly.year}.nc\"),\n",
    "                    os.path.join(ncinputfolder,'hindcast_cfs', f\"{prevjuly.year}\", f\"roms-cfs-atmos-Tair-{prevjuly.year}.nc\"),\n",
    "                    os.path.join(ncinputfolder,'hindcast_cfs', f\"{prevjuly.year}\", f\"roms-cfs-atmos-Uwind-{prevjuly.year}.nc\"),\n",
    "                    os.path.join(ncinputfolder,'hindcast_cfs', f\"{prevjuly.year}\", f\"roms-cfs-atmos-Vwind-{prevjuly.year}.nc\"),\n",
    "                    os.path.join(ncinputfolder,'river', f\"runoff_kearney_{prevjuly.year}.nc\")]\n",
    "\n",
    "ocean['NFFILES'] = len(ocean['FRCNAME'])"
   ]
  },
  {
   "cell_type": "markdown",
   "metadata": {},
   "source": [
    "### Bio parameters\n",
    "\n",
    "The biological parameters combine the BEST_NPZ defaults with the FEAST parameters."
   ]
  },
  {
   "cell_type": "code",
   "execution_count": 6,
   "metadata": {},
   "outputs": [],
   "source": [
    "# Spinup flags\n",
    "\n",
    "feast['feast_coupled']     = 0\n",
    "feast['feast_mort']        = 0\n",
    "feast['feast_fishing']     = 0\n",
    "feast['feast_growth']      = 0\n",
    "feast['feast_recruitment'] = 0\n",
    "\n",
    "# Make sure feast and npz parameters align\n",
    "\n",
    "feast['mpredCop'] = npz['mpredCop']\n",
    "feast['mpredNCa'] = npz['mpredNCa']\n",
    "feast['mpredEup'] = npz['mpredEup']\n",
    "\n",
    "# Combine npz and feast dicts into one\n",
    "\n",
    "bpar = npz\n",
    "bpar.update(feast) \n",
    "\n",
    "# Write to file\n",
    "\n",
    "bparfile = os.path.join(fol['in'], f\"{simname}_spinup_bpar.in\")\n",
    "\n",
    "rc.dict2standardin(bpar, compress=False, file=bparfile)\n",
    "\n",
    "ocean['BPARNAM'] = bparfile\n"
   ]
  },
  {
   "cell_type": "markdown",
   "metadata": {},
   "source": [
    "### Run\n",
    "\n",
    "Run the spinup portion of the simulation.  Here, we specify that the restart-counter should start at 0 so that later, the counter will properly correspond with the individual weeks."
   ]
  },
  {
   "cell_type": "code",
   "execution_count": 7,
   "metadata": {},
   "outputs": [
    {
     "name": "stdout",
     "output_type": "stream",
     "text": [
      "WARNING!: Cannot find file /gscratch/bumblereem/bering10k/input/grd/Bering_grid_withFeast.nc\n",
      "WARNING!: Cannot find file ./In/ini_feastH16_2005_spinup.nc\n"
     ]
    },
    {
     "ename": "SystemExit",
     "evalue": "",
     "output_type": "error",
     "traceback": [
      "An exception has occurred, use %tb to see the full traceback.\n",
      "\u001b[0;31mSystemExit\u001b[0m\n"
     ]
    },
    {
     "name": "stderr",
     "output_type": "stream",
     "text": [
      "/Users/kakearney/anaconda3/lib/python3.6/site-packages/IPython/core/interactiveshell.py:2918: UserWarning: To exit: use 'exit', 'quit', or Ctrl-D.\n",
      "  warn(\"To exit: use 'exit', 'quit', or Ctrl-D.\", stacklevel=1)\n"
     ]
    }
   ],
   "source": [
    "romscmd = [\"mpirun\", os.path.join(moxdir, \"romsexecs/oceanM_feast_H16\")]\n",
    "\n",
    "enddate = datetime(targetyear,1,1)\n",
    "\n",
    "rc.runtodate(ocean, simdir, simname, enddate=enddate, dryrunflag=dryrun, addcounter=\"all\", \n",
    "             romscmd=romscmd, count=0)"
   ]
  },
  {
   "cell_type": "markdown",
   "metadata": {},
   "source": [
    "## The target year simulation\n",
    "\n",
    "The primary target year simulation is run week by week, starting from the spinup simulation.\n",
    "\n",
    "### Switch input files\n",
    "\n",
    "We need to change the initialization file to point to the last restart file from the spinup, and switch the forcing and boundary files to the target year."
   ]
  },
  {
   "cell_type": "code",
   "execution_count": null,
   "metadata": {},
   "outputs": [],
   "source": [
    "# Boundary \n",
    "\n",
    "ocean['BRYNAME'] = os.path.join(ncinputfolder, \"hindcast_cfs\", f\"{targetyear}\", \n",
    "                                f\"roms-cfs-bry-N{ocean['N']}-{targetyear}.nc\")\n",
    "\n",
    "# Forcing files\n",
    "\n",
    "ocean['FRCNAME'] = [os.path.join(ncinputfolder, 'generic', 'tides_OTBS.nc'), \n",
    "                    os.path.join(ncinputfolder, 'generic', 'sss.clim.nc'),\n",
    "                    os.path.join(ncinputfolder,'hindcast_cfs', f\"{targetyear}\", f\"roms-cfs-atmos-lwrad-{targetyear}.nc\"),\n",
    "                    os.path.join(ncinputfolder,'hindcast_cfs', f\"{targetyear}\", f\"roms-cfs-atmos-Pair-{targetyear}.nc\"),\n",
    "                    os.path.join(ncinputfolder,'hindcast_cfs', f\"{targetyear}\", f\"roms-cfs-atmos-Qair-{targetyear}.nc\"),\n",
    "                    os.path.join(ncinputfolder,'hindcast_cfs', f\"{targetyear}\", f\"roms-cfs-atmos-rain-{targetyear}.nc\"),\n",
    "                    os.path.join(ncinputfolder,'hindcast_cfs', f\"{targetyear}\", f\"roms-cfs-atmos-swrad-{targetyear}.nc\"),\n",
    "                    os.path.join(ncinputfolder,'hindcast_cfs', f\"{targetyear}\", f\"roms-cfs-atmos-Tair-{targetyear}.nc\"),\n",
    "                    os.path.join(ncinputfolder,'hindcast_cfs', f\"{targetyear}\", f\"roms-cfs-atmos-Uwind-{targetyear}.nc\"),\n",
    "                    os.path.join(ncinputfolder,'hindcast_cfs', f\"{targetyear}\", f\"roms-cfs-atmos-Vwind-{targetyear}.nc\"),\n",
    "                    os.path.join(ncinputfolder,'river', f\"runoff_kearney_{targetyear}.nc\")]\n",
    "\n",
    "ocean['NFFILES'] = len(ocean['FRCNAME'])"
   ]
  },
  {
   "cell_type": "markdown",
   "metadata": {},
   "source": [
    "### Bio parameters\n",
    "\n",
    "Switch spinup-related flags back on, and write new bio parameter file."
   ]
  },
  {
   "cell_type": "code",
   "execution_count": null,
   "metadata": {},
   "outputs": [],
   "source": [
    "# Spinup flags\n",
    "\n",
    "feast['feast_coupled']     = 1\n",
    "feast['feast_mort']        = 1\n",
    "feast['feast_fishing']     = 1\n",
    "feast['feast_growth']      = 1\n",
    "feast['feast_recruitment'] = 1\n",
    "\n",
    "# Combine npz and feast dicts into one\n",
    "\n",
    "bpar = npz\n",
    "bpar.update(feast) \n",
    "\n",
    "# Write to file\n",
    "\n",
    "bparfile = os.path.join(fol['in'], f\"{simname}_bpar.in\")\n",
    "\n",
    "rc.dict2standardin(bpar, compress=False, file=bparfile)\n",
    "\n",
    "ocean['BPARNAM'] = bparfile\n"
   ]
  },
  {
   "cell_type": "markdown",
   "metadata": {},
   "source": [
    "### Archiving parameters\n",
    "\n",
    "For the primary simulation, we switch to daily output.  We set the file length to be 2 weeks, which, when combined with the week-by-week running below, will result in one file per \"week\", even when we add an extra day or two (in the first and last week of the simulation)."
   ]
  },
  {
   "cell_type": "code",
   "execution_count": null,
   "metadata": {},
   "outputs": [],
   "source": [
    "ocean['NHIS'] = timedelta(days=1)\n",
    "ocean['NAVG'] = timedelta(days=1)\n",
    "ocean['NRST'] = timedelta(hours=6)\n",
    "ocean['NDEFHIS'] = timedelta(weeks=2)\n",
    "ocean['NDEFAVG'] = timedelta(weeks=2)"
   ]
  },
  {
   "cell_type": "markdown",
   "metadata": {},
   "source": [
    "### Run simulation week by week"
   ]
  },
  {
   "cell_type": "code",
   "execution_count": null,
   "metadata": {},
   "outputs": [],
   "source": [
    "for weeknum in range(1,53):\n",
    "    \n",
    "    # Add (or switch out) appropriate catch forcing file\n",
    "    \n",
    "    catchfile = os.path.join(ncinputfolder, \"catch\", \n",
    "                             f\"nc_{targetyear}\", \n",
    "                             f\"FEAST_catch_year{targetyear}_week{weeknum}.nc\")\n",
    "    if 'FEAST_catch' in ocean['FRCNAME'][-1]:\n",
    "        ocean['FRCNAME'][-1] = catchfile\n",
    "    else:\n",
    "        ocean['FRCNAME'] = ocean['FRCNAME'] + [catchfile]\n",
    "        ocean['NFFILES'] = len(ocean['FRCNAME'])\n",
    "        \n",
    "    # Check to make sure the last existing restart file counter corresponds to the \n",
    "    # prior week\n",
    "\n",
    "    rstinfo = rcu.parserst(os.path.join(fol['out'], simname))\n",
    "    if (not rstinfo['lastfile']):\n",
    "        print('  No restart file found to initialize week {:d}'.format(weeknum))\n",
    "        break\n",
    "    if (rstinfo['count'] != (weeknum)):\n",
    "        print('  Last restart counter ({:d}) does not match week number ({:d})'.format(rstinfo['count'], weeknum))\n",
    "        break\n",
    "        \n",
    "    # Update start date so the internal ROMS counters start from the beginning of\n",
    "    # the week.  This keeps the output archiving files aligned with the weeks.\n",
    "    \n",
    "    if weeknum == 1:\n",
    "        f = nc.Dataset(ocean['ININAME'], 'r')\n",
    "        tunit = f.variables['ocean_time'].units\n",
    "        tcal = f.variables['ocean_time'].calendar\n",
    "        t1 = nc.num2date(f.variables['ocean_time'][-1], units=tunit, calendar=tcal)\n",
    "        ocean['DSTART'] = t1 # Last time in spinup\n",
    "    else:\n",
    "        ocean['DSTART'] = datetime(yr,1,1) + timedelta(weeks=weeknum-1)\n",
    "        \n",
    "    # Update the end date\n",
    "    \n",
    "    if weeknum == 52:\n",
    "        enddate = datetime(yr+1,1,1)\n",
    "    else:\n",
    "        enddate = datetime(yr,1,1) + timedelta(weeks=weeknum)\n",
    "        \n",
    "    # Run\n",
    "    \n",
    "    rc.runtodate(ocean, simdir, simname, enddate=enddate, dryrunflag=dryrun, addcounter=\"all\", \n",
    "             romscmd=romscmd)\n",
    "    \n",
    "    "
   ]
  }
 ],
 "metadata": {
  "kernelspec": {
   "display_name": "Python 3",
   "language": "python",
   "name": "python3"
  },
  "language_info": {
   "codemirror_mode": {
    "name": "ipython",
    "version": 3
   },
   "file_extension": ".py",
   "mimetype": "text/x-python",
   "name": "python",
   "nbconvert_exporter": "python",
   "pygments_lexer": "ipython3",
   "version": "3.6.10"
  }
 },
 "nbformat": 4,
 "nbformat_minor": 2
}
